{
 "cells": [
  {
   "cell_type": "code",
   "execution_count": null,
   "id": "4f5de7a9-4bdd-4e26-8475-fcc7adee6e4a",
   "metadata": {},
   "outputs": [],
   "source": [
    "# Here I instlled All the required libraries "
   ]
  },
  {
   "cell_type": "code",
   "execution_count": 14,
   "id": "2c7b925d-07d7-4820-93cd-b4277cf96917",
   "metadata": {},
   "outputs": [
    {
     "name": "stdout",
     "output_type": "stream",
     "text": [
      "Requirement already satisfied: pd in c:\\users\\supercool_5\\pycharmprojects\\webscraping\\venv\\lib\\site-packages (0.0.4)Note: you may need to restart the kernel to use updated packages.\n",
      "\n"
     ]
    }
   ],
   "source": [
    "pip install pd"
   ]
  },
  {
   "cell_type": "code",
   "execution_count": 15,
   "id": "c8855cda-3018-4715-a5bb-b07ae7eb9e94",
   "metadata": {},
   "outputs": [
    {
     "name": "stdout",
     "output_type": "stream",
     "text": [
      "Requirement already satisfied: lxml in c:\\users\\supercool_5\\pycharmprojects\\webscraping\\venv\\lib\\site-packages (4.9.1)\n",
      "Note: you may need to restart the kernel to use updated packages.\n"
     ]
    }
   ],
   "source": [
    "pip install lxml"
   ]
  },
  {
   "cell_type": "code",
   "execution_count": 16,
   "id": "68862994-c756-4d29-a7c7-8df9569ed34b",
   "metadata": {},
   "outputs": [
    {
     "name": "stdout",
     "output_type": "stream",
     "text": [
      "Requirement already satisfied: requests in c:\\users\\supercool_5\\pycharmprojects\\webscraping\\venv\\lib\\site-packages (2.28.1)\n",
      "Requirement already satisfied: certifi>=2017.4.17 in c:\\users\\supercool_5\\pycharmprojects\\webscraping\\venv\\lib\\site-packages (from requests) (2022.6.15)\n",
      "Requirement already satisfied: charset-normalizer<3,>=2 in c:\\users\\supercool_5\\pycharmprojects\\webscraping\\venv\\lib\\site-packages (from requests) (2.1.1)\n",
      "Requirement already satisfied: idna<4,>=2.5 in c:\\users\\supercool_5\\pycharmprojects\\webscraping\\venv\\lib\\site-packages (from requests) (3.3)\n",
      "Requirement already satisfied: urllib3<1.27,>=1.21.1 in c:\\users\\supercool_5\\pycharmprojects\\webscraping\\venv\\lib\\site-packages (from requests) (1.26.12)\n",
      "Note: you may need to restart the kernel to use updated packages.\n"
     ]
    }
   ],
   "source": [
    "pip install requests"
   ]
  },
  {
   "cell_type": "code",
   "execution_count": 17,
   "id": "114d61c8-f5d1-4735-ba97-abeaa87983cc",
   "metadata": {},
   "outputs": [
    {
     "name": "stdout",
     "output_type": "stream",
     "text": [
      "Requirement already satisfied: lpython in c:\\users\\supercool_5\\pycharmprojects\\webscraping\\venv\\lib\\site-packages (1.0.0a1)\n",
      "Note: you may need to restart the kernel to use updated packages.\n"
     ]
    }
   ],
   "source": [
    "pip install lpython"
   ]
  },
  {
   "cell_type": "code",
   "execution_count": 18,
   "id": "5b810777-3b91-46aa-9b96-b900c7f21eef",
   "metadata": {},
   "outputs": [
    {
     "name": "stdout",
     "output_type": "stream",
     "text": [
      "Requirement already satisfied: bs4 in c:\\users\\supercool_5\\pycharmprojects\\webscraping\\venv\\lib\\site-packages (0.0.1)Note: you may need to restart the kernel to use updated packages.\n",
      "\n",
      "Requirement already satisfied: beautifulsoup4 in c:\\users\\supercool_5\\pycharmprojects\\webscraping\\venv\\lib\\site-packages (from bs4) (4.11.1)\n",
      "Requirement already satisfied: soupsieve>1.2 in c:\\users\\supercool_5\\pycharmprojects\\webscraping\\venv\\lib\\site-packages (from beautifulsoup4->bs4) (2.3.2.post1)\n"
     ]
    }
   ],
   "source": [
    "pip install bs4"
   ]
  },
  {
   "cell_type": "code",
   "execution_count": 1,
   "id": "291ba120-6965-4e4a-a7ea-faf3e0c97af3",
   "metadata": {},
   "outputs": [],
   "source": [
    "import pandas as pd\n",
    "from lxml import etree\n",
    "import requests\n",
    "from IPython.display import HTML\n",
    "from bs4 import BeautifulSoup"
   ]
  },
  {
   "cell_type": "code",
   "execution_count": 2,
   "id": "7f3376b6-e7f6-4900-92c1-04b1f8c57282",
   "metadata": {},
   "outputs": [],
   "source": [
    "# Here I used link where i have to scrap all required data"
   ]
  },
  {
   "cell_type": "code",
   "execution_count": 4,
   "id": "c2cb9446-55af-40c3-9ad7-f5b3fc9b8175",
   "metadata": {},
   "outputs": [],
   "source": [
    "url = 'https://dot.ca.gov/programs/procurement-and-contracts/contracts-out-for-bid'\n",
    "response =requests.get(url)"
   ]
  },
  {
   "cell_type": "code",
   "execution_count": 6,
   "id": "98249143-03d3-48f7-9126-c3a0d9c885e3",
   "metadata": {},
   "outputs": [],
   "source": [
    "# Using this line we will get full website content"
   ]
  },
  {
   "cell_type": "code",
   "execution_count": 7,
   "id": "59ddc3d1-d9b3-47bd-a686-c6247e8ef501",
   "metadata": {},
   "outputs": [],
   "source": [
    "soup = BeautifulSoup(response.content, 'html.parser')\n",
    "# print(soup.prettify())\n",
    "# print(type(response))"
   ]
  },
  {
   "cell_type": "code",
   "execution_count": null,
   "id": "5ebc2729-0c4c-400e-8f44-a39127a89ac5",
   "metadata": {},
   "outputs": [],
   "source": [
    "# Now we are going to extract required table data using \"XPATH\""
   ]
  },
  {
   "cell_type": "code",
   "execution_count": 8,
   "id": "ed5dafa6-1ac6-4922-92db-211cf3a1ab5f",
   "metadata": {},
   "outputs": [],
   "source": [
    "tables = etree.HTML(str(soup))\n",
    "table = (tables.xpath('//*[@id=\"main-content\"]/div/main/div[1]/div/table')[0].text)"
   ]
  },
  {
   "cell_type": "code",
   "execution_count": 10,
   "id": "21a40dd6-c4eb-47e7-930b-a0df078577e0",
   "metadata": {},
   "outputs": [],
   "source": [
    "columns =soup.find(id=\"main-content\").find('table').find_all('tr')"
   ]
  },
  {
   "cell_type": "code",
   "execution_count": 11,
   "id": "47760a51-ba2f-417b-9442-31697a9f6437",
   "metadata": {},
   "outputs": [
    {
     "data": {
      "text/plain": [
       "[<tr>\n",
       " <th scope=\"col\" style=\"width: 100px;\">Event ID</th>\n",
       " <th scope=\"col\">Event Name</th>\n",
       " <th scope=\"col\" style=\"width: 250px;\">End Date</th>\n",
       " </tr>,\n",
       " <tr>\n",
       " <td><a href=\"https://caleprocure.ca.gov/event/2660/01A6228\">01A6228</a><br>\n",
       " </br></td>\n",
       " <td>Clearance and Demolition Services Fortuna, CA</td>\n",
       " <td>08/16/22 - 2:00PM PDT<br/>\n",
       " </td>\n",
       " </tr>,\n",
       " <tr>\n",
       " <td><a href=\"https://caleprocure.ca.gov/event/2660/02A2151\">02A2151</a></td>\n",
       " <td>IFB Janitorial and Custodial Grounds Maintenance Services at the Secret Valley Safety Roadside Rest Area (SRRA) in Lassen County.</td>\n",
       " <td>08/16/22 - 2:00PM PDT</td>\n",
       " </tr>,\n",
       " <tr>\n",
       " <td><a href=\"https://caleprocure.ca.gov/event/2660/03A3492\">03A3492</a><br/>\n",
       " </td>\n",
       " <td>SB Minor B 03A3492 - Install Cured-In-Place Pipeliners in Placer County</td>\n",
       " <td>08/19/22 - 2:15PM PDT</td>\n",
       " </tr>,\n",
       " <tr>\n",
       " <td><a href=\"https://caleprocure.ca.gov/event/2660/03A3503\">03A3503</a></td>\n",
       " <td>SB Minor B 03A3503-Roadway Excavation, place HMA overside drain and HMA dike in Yolo County</td>\n",
       " <td>08/17/22 - 2:15PM PDT</td>\n",
       " </tr>,\n",
       " <tr>\n",
       " <td><a href=\"https://caleprocure.ca.gov/event/2660/04A6476\">04A6476</a></td>\n",
       " <td>IFB Multiple Provider Unsheltered Resident Encampment Site Waste Removal and Cleanup or Clean Only Services in the East Bay Area</td>\n",
       " <td>08/18/22 - 2:00PM PDT</td>\n",
       " </tr>,\n",
       " <tr>\n",
       " <td><a href=\"https://caleprocure.ca.gov/event/2660/04A6497\">04A6497</a><br/>\n",
       " </td>\n",
       " <td>Operated Equipment Rental Services in Alameda, Contra Costa, Sacramento, Solano, San Mateo, Lake, San Francisco, Santa Clara, Marin, Sonoma, and Napa Counties</td>\n",
       " <td>08/16/22 - 2:00PM PDT</td>\n",
       " </tr>,\n",
       " <tr>\n",
       " <td><a href=\"https://caleprocure.ca.gov/event/2660/04A6498\">04A6498</a></td>\n",
       " <td>Operated Equipment Rental Services in Alameda, Contra Costa, Sacramento, Solano, San Mateo, San Francisco, Lake, Santa Clara, Marin, Sonoma, and Napa Counties</td>\n",
       " <td>08/18/22 - 2:00PM PDT</td>\n",
       " </tr>,\n",
       " <tr>\n",
       " <td><a href=\"https://caleprocure.ca.gov/event/2660/04A6510\">04A6510</a></td>\n",
       " <td>IFB Janitorial Services in Santa Clara County, San Mateo County, and San Francisco County</td>\n",
       " <td>08/16/22 - 2:00PM PDT</td>\n",
       " </tr>,\n",
       " <tr>\n",
       " <td><a href=\"https://caleprocure.ca.gov/event/2660/04A6524\">04A6524</a><br/>\n",
       " </td>\n",
       " <td>SB Minor B 04A6524 Install Midwest Guardrail System in Solano county</td>\n",
       " <td>08/23/22 - 2:15PM PDT</td>\n",
       " </tr>,\n",
       " <tr>\n",
       " <td><a href=\"https://caleprocure.ca.gov/event/2660/06A2855\">06A2855</a></td>\n",
       " <td>IFB Trash and Recycle Pick-up, Hauling, and Disposal Services in Kern County</td>\n",
       " <td>08/16/22 - 2:00PM PDT</td>\n",
       " </tr>,\n",
       " <tr>\n",
       " <td><a href=\"https://caleprocure.ca.gov/event/2660/09A0882\">09A0882</a></td>\n",
       " <td>IFB Concrete Sidewalk Repairs and Picnic Tables Replacement Services</td>\n",
       " <td>08/25/22 - 2:00PM PDT</td>\n",
       " </tr>,\n",
       " <tr>\n",
       " <td><a href=\"https://caleprocure.ca.gov/event/2660/10A2418\">10A2418</a></td>\n",
       " <td>Inductive Loop Detector Repair and Replacement in Amador, Alpine, Calaveras, Mariposa, Merced, San Joaquin, Stanislaus, and Tuolumne Counties</td>\n",
       " <td>08/16/22 - 2:30PM PDT</td>\n",
       " </tr>,\n",
       " <tr>\n",
       " <td><a href=\"https://caleprocure.ca.gov/event/2660/10A2440\">10A2440</a><br/>\n",
       " </td>\n",
       " <td>Trash and Recycling Collection, Hauling, and Disposal Services within Calaveras County</td>\n",
       " <td>08/18/22 - 2:00PM PDT</td>\n",
       " </tr>,\n",
       " <tr>\n",
       " <td><a href=\"https://caleprocure.ca.gov/event/2660/10A2445\">10A2445</a></td>\n",
       " <td>SB Minor B 10A2445 Concrete Invert Paving and Rock Slope Protection in Mariposa County</td>\n",
       " <td>08/12/22 - 2:15PM PDT</td>\n",
       " </tr>,\n",
       " <tr>\n",
       " <td><a href=\"https://caleprocure.ca.gov/event/2660/32A0541\">32A0541</a></td>\n",
       " <td>IFB Auctioneering Services to Dispose of Retired Equipment, Northern California</td>\n",
       " <td>08/16/22 - 2:00PM PDT</td>\n",
       " </tr>]"
      ]
     },
     "execution_count": 11,
     "metadata": {},
     "output_type": "execute_result"
    }
   ],
   "source": [
    "columns"
   ]
  },
  {
   "cell_type": "code",
   "execution_count": null,
   "id": "94e90b9f-0046-407e-ac72-28b414b0fbc9",
   "metadata": {},
   "outputs": [],
   "source": [
    "# Using this function we get our \"Event ID\" links only"
   ]
  },
  {
   "cell_type": "code",
   "execution_count": 12,
   "id": "15c8efc3-2c9d-4070-a0f2-0ab9158748c3",
   "metadata": {},
   "outputs": [],
   "source": [
    "def get_topics_titles(columns):\n",
    "    selection_class = etree.HTML(str(columns))\n",
    "    dom = (selection_class.xpath('//*[@id=\"main-content\"]/div/main/div[1]/div/table')[0].text)\n",
    "    test = columns.find(id=\"main-content\").find('table').find_all('tr')\n",
    "    lis1 = []\n",
    "    for i in test:\n",
    "        tups = i.find_all('a')\n",
    "        print(tups)"
   ]
  },
  {
   "cell_type": "code",
   "execution_count": 13,
   "id": "9bb43640-8662-4407-af60-2cc43f02ca33",
   "metadata": {},
   "outputs": [
    {
     "name": "stdout",
     "output_type": "stream",
     "text": [
      "[]\n",
      "[<a href=\"https://caleprocure.ca.gov/event/2660/01A6228\">01A6228</a>]\n",
      "[<a href=\"https://caleprocure.ca.gov/event/2660/02A2151\">02A2151</a>]\n",
      "[<a href=\"https://caleprocure.ca.gov/event/2660/03A3492\">03A3492</a>]\n",
      "[<a href=\"https://caleprocure.ca.gov/event/2660/03A3503\">03A3503</a>]\n",
      "[<a href=\"https://caleprocure.ca.gov/event/2660/04A6476\">04A6476</a>]\n",
      "[<a href=\"https://caleprocure.ca.gov/event/2660/04A6497\">04A6497</a>]\n",
      "[<a href=\"https://caleprocure.ca.gov/event/2660/04A6498\">04A6498</a>]\n",
      "[<a href=\"https://caleprocure.ca.gov/event/2660/04A6510\">04A6510</a>]\n",
      "[<a href=\"https://caleprocure.ca.gov/event/2660/04A6524\">04A6524</a>]\n",
      "[<a href=\"https://caleprocure.ca.gov/event/2660/06A2855\">06A2855</a>]\n",
      "[<a href=\"https://caleprocure.ca.gov/event/2660/09A0882\">09A0882</a>]\n",
      "[<a href=\"https://caleprocure.ca.gov/event/2660/10A2418\">10A2418</a>]\n",
      "[<a href=\"https://caleprocure.ca.gov/event/2660/10A2440\">10A2440</a>]\n",
      "[<a href=\"https://caleprocure.ca.gov/event/2660/10A2445\">10A2445</a>]\n",
      "[<a href=\"https://caleprocure.ca.gov/event/2660/32A0541\">32A0541</a>]\n"
     ]
    }
   ],
   "source": [
    "get_topics_titles(soup)"
   ]
  },
  {
   "cell_type": "code",
   "execution_count": 15,
   "id": "0be7d782-8fd5-4147-9836-d5352922cf93",
   "metadata": {},
   "outputs": [],
   "source": [
    "#  this we will get our full required data from any website"
   ]
  },
  {
   "cell_type": "code",
   "execution_count": 16,
   "id": "8ed76548-ae6c-4d6f-b78f-83c66082e9a1",
   "metadata": {},
   "outputs": [
    {
     "name": "stdout",
     "output_type": "stream",
     "text": [
      "   Event ID                                         Event Name  \\\n",
      "0   01A6228      Clearance and Demolition Services Fortuna, CA   \n",
      "1   02A2151  IFB Janitorial and Custodial Grounds Maintenan...   \n",
      "2   03A3492  SB Minor B 03A3492 - Install Cured-In-Place Pi...   \n",
      "3   03A3503  SB Minor B 03A3503-Roadway Excavation, place H...   \n",
      "4   04A6476  IFB Multiple Provider Unsheltered Resident Enc...   \n",
      "5   04A6497  Operated Equipment Rental Services in Alameda,...   \n",
      "6   04A6498  Operated Equipment Rental Services in Alameda,...   \n",
      "7   04A6510  IFB Janitorial Services in Santa Clara County,...   \n",
      "8   04A6524  SB Minor B 04A6524 Install Midwest Guardrail S...   \n",
      "9   06A2855  IFB Trash and Recycle Pick-up, Hauling, and Di...   \n",
      "10  09A0882  IFB Concrete Sidewalk Repairs and Picnic Table...   \n",
      "11  10A2418  Inductive Loop Detector Repair and Replacement...   \n",
      "12  10A2440  Trash and Recycling Collection, Hauling, and D...   \n",
      "13  10A2445  SB Minor B 10A2445 Concrete Invert Paving and ...   \n",
      "14  32A0541  IFB Auctioneering Services to Dispose of Retir...   \n",
      "\n",
      "                 End Date  \n",
      "0   08/16/22 - 2:00PM PDT  \n",
      "1   08/16/22 - 2:00PM PDT  \n",
      "2   08/19/22 - 2:15PM PDT  \n",
      "3   08/17/22 - 2:15PM PDT  \n",
      "4   08/18/22 - 2:00PM PDT  \n",
      "5   08/16/22 - 2:00PM PDT  \n",
      "6   08/18/22 - 2:00PM PDT  \n",
      "7   08/16/22 - 2:00PM PDT  \n",
      "8   08/23/22 - 2:15PM PDT  \n",
      "9   08/16/22 - 2:00PM PDT  \n",
      "10  08/25/22 - 2:00PM PDT  \n",
      "11  08/16/22 - 2:30PM PDT  \n",
      "12  08/18/22 - 2:00PM PDT  \n",
      "13  08/12/22 - 2:15PM PDT  \n",
      "14  08/16/22 - 2:00PM PDT  \n"
     ]
    }
   ],
   "source": [
    "table_df = pd.read_html(str(soup))[0]\n",
    "print(table_df)\n",
    "\n",
    "table_df.to_csv('table_df.csv')"
   ]
  },
  {
   "cell_type": "code",
   "execution_count": 18,
   "id": "445baff6-cc97-4a8e-9add-c3a6e29edd9e",
   "metadata": {},
   "outputs": [
    {
     "data": {
      "text/html": [
       "<div>\n",
       "<style scoped>\n",
       "    .dataframe tbody tr th:only-of-type {\n",
       "        vertical-align: middle;\n",
       "    }\n",
       "\n",
       "    .dataframe tbody tr th {\n",
       "        vertical-align: top;\n",
       "    }\n",
       "\n",
       "    .dataframe thead th {\n",
       "        text-align: right;\n",
       "    }\n",
       "</style>\n",
       "<table border=\"1\" class=\"dataframe\">\n",
       "  <thead>\n",
       "    <tr style=\"text-align: right;\">\n",
       "      <th></th>\n",
       "      <th>Event ID</th>\n",
       "      <th>Event Name</th>\n",
       "      <th>End Date</th>\n",
       "    </tr>\n",
       "  </thead>\n",
       "  <tbody>\n",
       "    <tr>\n",
       "      <th>0</th>\n",
       "      <td>01A6228</td>\n",
       "      <td>Clearance and Demolition Services Fortuna, CA</td>\n",
       "      <td>08/16/22 - 2:00PM PDT</td>\n",
       "    </tr>\n",
       "    <tr>\n",
       "      <th>1</th>\n",
       "      <td>02A2151</td>\n",
       "      <td>IFB Janitorial and Custodial Grounds Maintenan...</td>\n",
       "      <td>08/16/22 - 2:00PM PDT</td>\n",
       "    </tr>\n",
       "    <tr>\n",
       "      <th>2</th>\n",
       "      <td>03A3492</td>\n",
       "      <td>SB Minor B 03A3492 - Install Cured-In-Place Pi...</td>\n",
       "      <td>08/19/22 - 2:15PM PDT</td>\n",
       "    </tr>\n",
       "    <tr>\n",
       "      <th>3</th>\n",
       "      <td>03A3503</td>\n",
       "      <td>SB Minor B 03A3503-Roadway Excavation, place H...</td>\n",
       "      <td>08/17/22 - 2:15PM PDT</td>\n",
       "    </tr>\n",
       "    <tr>\n",
       "      <th>4</th>\n",
       "      <td>04A6476</td>\n",
       "      <td>IFB Multiple Provider Unsheltered Resident Enc...</td>\n",
       "      <td>08/18/22 - 2:00PM PDT</td>\n",
       "    </tr>\n",
       "    <tr>\n",
       "      <th>5</th>\n",
       "      <td>04A6497</td>\n",
       "      <td>Operated Equipment Rental Services in Alameda,...</td>\n",
       "      <td>08/16/22 - 2:00PM PDT</td>\n",
       "    </tr>\n",
       "    <tr>\n",
       "      <th>6</th>\n",
       "      <td>04A6498</td>\n",
       "      <td>Operated Equipment Rental Services in Alameda,...</td>\n",
       "      <td>08/18/22 - 2:00PM PDT</td>\n",
       "    </tr>\n",
       "    <tr>\n",
       "      <th>7</th>\n",
       "      <td>04A6510</td>\n",
       "      <td>IFB Janitorial Services in Santa Clara County,...</td>\n",
       "      <td>08/16/22 - 2:00PM PDT</td>\n",
       "    </tr>\n",
       "    <tr>\n",
       "      <th>8</th>\n",
       "      <td>04A6524</td>\n",
       "      <td>SB Minor B 04A6524 Install Midwest Guardrail S...</td>\n",
       "      <td>08/23/22 - 2:15PM PDT</td>\n",
       "    </tr>\n",
       "    <tr>\n",
       "      <th>9</th>\n",
       "      <td>06A2855</td>\n",
       "      <td>IFB Trash and Recycle Pick-up, Hauling, and Di...</td>\n",
       "      <td>08/16/22 - 2:00PM PDT</td>\n",
       "    </tr>\n",
       "    <tr>\n",
       "      <th>10</th>\n",
       "      <td>09A0882</td>\n",
       "      <td>IFB Concrete Sidewalk Repairs and Picnic Table...</td>\n",
       "      <td>08/25/22 - 2:00PM PDT</td>\n",
       "    </tr>\n",
       "    <tr>\n",
       "      <th>11</th>\n",
       "      <td>10A2418</td>\n",
       "      <td>Inductive Loop Detector Repair and Replacement...</td>\n",
       "      <td>08/16/22 - 2:30PM PDT</td>\n",
       "    </tr>\n",
       "    <tr>\n",
       "      <th>12</th>\n",
       "      <td>10A2440</td>\n",
       "      <td>Trash and Recycling Collection, Hauling, and D...</td>\n",
       "      <td>08/18/22 - 2:00PM PDT</td>\n",
       "    </tr>\n",
       "    <tr>\n",
       "      <th>13</th>\n",
       "      <td>10A2445</td>\n",
       "      <td>SB Minor B 10A2445 Concrete Invert Paving and ...</td>\n",
       "      <td>08/12/22 - 2:15PM PDT</td>\n",
       "    </tr>\n",
       "    <tr>\n",
       "      <th>14</th>\n",
       "      <td>32A0541</td>\n",
       "      <td>IFB Auctioneering Services to Dispose of Retir...</td>\n",
       "      <td>08/16/22 - 2:00PM PDT</td>\n",
       "    </tr>\n",
       "  </tbody>\n",
       "</table>\n",
       "</div>"
      ],
      "text/plain": [
       "   Event ID                                         Event Name  \\\n",
       "0   01A6228      Clearance and Demolition Services Fortuna, CA   \n",
       "1   02A2151  IFB Janitorial and Custodial Grounds Maintenan...   \n",
       "2   03A3492  SB Minor B 03A3492 - Install Cured-In-Place Pi...   \n",
       "3   03A3503  SB Minor B 03A3503-Roadway Excavation, place H...   \n",
       "4   04A6476  IFB Multiple Provider Unsheltered Resident Enc...   \n",
       "5   04A6497  Operated Equipment Rental Services in Alameda,...   \n",
       "6   04A6498  Operated Equipment Rental Services in Alameda,...   \n",
       "7   04A6510  IFB Janitorial Services in Santa Clara County,...   \n",
       "8   04A6524  SB Minor B 04A6524 Install Midwest Guardrail S...   \n",
       "9   06A2855  IFB Trash and Recycle Pick-up, Hauling, and Di...   \n",
       "10  09A0882  IFB Concrete Sidewalk Repairs and Picnic Table...   \n",
       "11  10A2418  Inductive Loop Detector Repair and Replacement...   \n",
       "12  10A2440  Trash and Recycling Collection, Hauling, and D...   \n",
       "13  10A2445  SB Minor B 10A2445 Concrete Invert Paving and ...   \n",
       "14  32A0541  IFB Auctioneering Services to Dispose of Retir...   \n",
       "\n",
       "                 End Date  \n",
       "0   08/16/22 - 2:00PM PDT  \n",
       "1   08/16/22 - 2:00PM PDT  \n",
       "2   08/19/22 - 2:15PM PDT  \n",
       "3   08/17/22 - 2:15PM PDT  \n",
       "4   08/18/22 - 2:00PM PDT  \n",
       "5   08/16/22 - 2:00PM PDT  \n",
       "6   08/18/22 - 2:00PM PDT  \n",
       "7   08/16/22 - 2:00PM PDT  \n",
       "8   08/23/22 - 2:15PM PDT  \n",
       "9   08/16/22 - 2:00PM PDT  \n",
       "10  08/25/22 - 2:00PM PDT  \n",
       "11  08/16/22 - 2:30PM PDT  \n",
       "12  08/18/22 - 2:00PM PDT  \n",
       "13  08/12/22 - 2:15PM PDT  \n",
       "14  08/16/22 - 2:00PM PDT  "
      ]
     },
     "execution_count": 18,
     "metadata": {},
     "output_type": "execute_result"
    }
   ],
   "source": [
    "table_df"
   ]
  },
  {
   "cell_type": "code",
   "execution_count": null,
   "id": "5382c182-0746-4a18-acd8-0bf9af245258",
   "metadata": {},
   "outputs": [],
   "source": []
  }
 ],
 "metadata": {
  "kernelspec": {
   "display_name": "Python 3 (ipykernel)",
   "language": "python",
   "name": "python3"
  },
  "language_info": {
   "codemirror_mode": {
    "name": "ipython",
    "version": 3
   },
   "file_extension": ".py",
   "mimetype": "text/x-python",
   "name": "python",
   "nbconvert_exporter": "python",
   "pygments_lexer": "ipython3",
   "version": "3.9.13"
  }
 },
 "nbformat": 4,
 "nbformat_minor": 5
}
